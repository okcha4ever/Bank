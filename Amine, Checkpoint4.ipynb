{
 "cells": [
  {
   "cell_type": "markdown",
   "metadata": {},
   "source": [
    "# 1>"
   ]
  },
  {
   "cell_type": "markdown",
   "metadata": {},
   "source": [
    "## --Point3D"
   ]
  },
  {
   "cell_type": "code",
   "execution_count": 1,
   "metadata": {},
   "outputs": [
    {
     "name": "stdout",
     "output_type": "stream",
     "text": [
      "x> 1, y> 2, z> 3.\n"
     ]
    }
   ],
   "source": [
    "\n",
    "class Point3D:\n",
    "    def __init__(self, x, y ,z):\n",
    "        self.x = x\n",
    "        self.y = y\n",
    "        self.z = z\n",
    "    \n",
    "\n",
    "my_point = Point3D(1, 2, 3)\n",
    "print(\"x> {}, y> {}, z> {}.\".format(my_point.x, my_point.y, my_point.z))"
   ]
  },
  {
   "cell_type": "markdown",
   "metadata": {},
   "source": [
    "# 2>"
   ]
  },
  {
   "cell_type": "markdown",
   "metadata": {},
   "source": [
    "### --Calculating the area and the parameters of a Rectangle, with a given Width & Length by the user> "
   ]
  },
  {
   "cell_type": "code",
   "execution_count": 5,
   "metadata": {},
   "outputs": [
    {
     "name": "stdout",
     "output_type": "stream",
     "text": [
      "The area of a rectangle is> 12\n",
      "The parameters of a rectangle is 14\n"
     ]
    }
   ],
   "source": [
    "class Rectangle:\n",
    "        def __init__(self, length, width):\n",
    "            self.length = length; self.width = width\n",
    "        \n",
    "        def compute_area(self):\n",
    "            return self.length * self.width\n",
    "        \n",
    "        def compute_parameters(self):\n",
    "            return 2 * (self.width + self.length)\n",
    "\n",
    "len = float(input(\"Enter a length> \"))\n",
    "width = float(input(\"Enter a width> \"))\n",
    "\n",
    "object = Rectangle(len, width)\n",
    "calculate_area = object.compute_area()\n",
    "calculate_parameters = object.compute_parameters()\n",
    "\n",
    "print(\"The area of a rectangle is> {}\".format(calculate_area))\n",
    "print(\"The parameters of a rectangle is {}\".format(calculate_parameters))"
   ]
  },
  {
   "cell_type": "markdown",
   "metadata": {},
   "source": [
    "# 3>"
   ]
  },
  {
   "cell_type": "markdown",
   "metadata": {},
   "source": [
    "### --Calculating the area and the parameter of a Circle by a given Radios by the user>"
   ]
  },
  {
   "cell_type": "code",
   "execution_count": 13,
   "metadata": {},
   "outputs": [
    {
     "name": "stdout",
     "output_type": "stream",
     "text": [
      "Your radios> 3 \n",
      "Your x> 4 \n",
      "You're random generated y is (1)\n",
      "You're random generated circle_x is (3)\n",
      "You're random generated circle_y is (5)\n",
      "28.274333882308138\n",
      "18.84955592153876\n",
      "False\n"
     ]
    }
   ],
   "source": [
    "from math import pi # Importing pi \n",
    "from random import randint # random\n",
    "class Circle:\n",
    "    def __init__(self, r,  circle_x, circle_y):\n",
    "        self.r = r; self.cx = circle_x; self.cy = circle_y\n",
    "    \n",
    "    def calculate_area(self):\n",
    "        return self.r * self.r * pi\n",
    "    \n",
    "    def calculate_parameters(self):\n",
    "        d = self.r + self.r\n",
    "        return d * pi\n",
    "    \n",
    "    def isinside(self, x, y):\n",
    "        self.x = x; self.y = y\n",
    "        check = ((self.x - self.cx) * (self.x - self.cx) + (self.y - self.cy) * (self.y - self.cy) <= self.r * self.r)\n",
    "        if check:\n",
    "            return True\n",
    "        else:\n",
    "            return False\n",
    "comp =  randint(0, 10)    \n",
    "radios = int(input(\"Enter a radios, or Type '0000' to generate a random radios> \"))\n",
    "if radios == 0000:\n",
    "    radios = comp\n",
    "    result = \"You're random generated radios is ({})\".format(comp)\n",
    "    print(result)\n",
    "else:\n",
    "    print(f\"Your radios> {radios} \")\n",
    "\n",
    "x = int(input(\"Enter x, or Type '0000' to generate a random one> \"))\n",
    "if x == 0000:\n",
    "    comp = randint(0, 5)\n",
    "    x = comp\n",
    "    result = \"You're random generated x is ({})\".format(comp)\n",
    "    print(result)\n",
    "else:\n",
    "    print(f\"Your x> {x} \")\n",
    "\n",
    "y = int(input(\"Enter y, or Type '0000' to generate a random one> \"))\n",
    "if y == 0000:\n",
    "    comp = randint(0, 5)\n",
    "    y = comp\n",
    "    result = \"You're random generated y is ({})\".format(comp)\n",
    "    print(result)\n",
    "else:\n",
    "    print(f\"Your y> {y} \")\n",
    "\n",
    "cirlce_x = int(input(\"Enter circle_x, or Type '0000' to generate a random one> \"))\n",
    "if cirlce_x == 0000:\n",
    "    comp = randint(0, 5)\n",
    "    cirlce_x = comp\n",
    "    result = \"You're random generated circle_x is ({})\".format(comp)\n",
    "    print(result)\n",
    "else:\n",
    "    print(f\"Your circle_x> {cirlce_x} \")\n",
    "    \n",
    "\n",
    "cirlce_y = int(input(\"Enter circle_y, or Type '0000' to generate a random one> \"))\n",
    "if cirlce_y == 0000:\n",
    "    comp = randint(0, 5)\n",
    "    cirlce_y = comp\n",
    "    result = \"You're random generated circle_y is ({})\".format(comp)\n",
    "    print(result)\n",
    "else:\n",
    "    print(f\"Your circle_y> {cirlce_y} \")\n",
    "\n",
    "\n",
    "NewCircle = Circle(radios, cirlce_x, cirlce_y)\n",
    "print(NewCircle.calculate_area())\n",
    "print(NewCircle.calculate_parameters())\n",
    "print(NewCircle.isinside(x, y))\n"
   ]
  },
  {
   "cell_type": "markdown",
   "metadata": {},
   "source": [
    "# 4>"
   ]
  },
  {
   "cell_type": "markdown",
   "metadata": {},
   "source": [
    "## --The Bank"
   ]
  },
  {
   "cell_type": "code",
   "execution_count": 9,
   "metadata": {},
   "outputs": [
    {
     "name": "stdout",
     "output_type": "stream",
     "text": [
      "Bouchoucha Amel, Looks like you have $500 in the bank And $300 cash!\n",
      "You currently have $500 in the bank, And $300 cash!\n",
      "The deposit Procedure is seccesful, you're current bank money now is 600 \n",
      "You currently have $600 \n",
      "The withdraw Procedure is seccesful, you're current cash money now is 400 \n"
     ]
    }
   ],
   "source": [
    "class Bank:\n",
    "    bank_money = 500\n",
    "    cash_money = 300\n",
    "    def __init__(self, name):\n",
    "        self.name = name\n",
    "    \n",
    "    def  deposit(self, money, money1):\n",
    "        \n",
    "        while True:\n",
    "            print(f\"You currently have ${money} in the bank, And ${money1} cash!\")\n",
    "            continue_or_not = input(\"If you wish to continue your deposit procedure... Type (y), And (n) to cancel!> \")\n",
    "            \n",
    "            if continue_or_not.lower() == 'n':\n",
    "                print(\"The procedure if canceled, you current bank money ${}\".format(Bank.bank_money))\n",
    "                break\n",
    "            else:\n",
    "                how_much = int(input(\"Enter how much would you like to doposit> \"))\n",
    "                if money <= 0 and money1 > 0:\n",
    "                    print(f\"Oops, insufficient money! You can't deposit any money because you have no cash right now (Cash money: {money}) , Try withdrawing some money from the bank (Bank money: {money1})., (y) (n)> \")\n",
    "                    break\n",
    "                else:\n",
    "                    if how_much < Bank.bank_money:\n",
    "                        print(\"Oops, you can't deposit because: {}<{} \".format(how_much, Bank.bank_money))\n",
    "                        break\n",
    "                    else:\n",
    "                        Bank.bank_money += how_much\n",
    "                        Bank.cash_money -= how_much\n",
    "                        print(\"The deposit Procedure is seccesful, you're current bank money now is {} \".format(Bank.bank_money))\n",
    "                        break\n",
    "                \n",
    "        return\n",
    "    def withdraw(self, money):\n",
    "        while True:\n",
    "            print(f\"You currently have ${money} \")\n",
    "            continue_or_not = input(\"If you wish to continue the withrdaw procedure... Type (y), or (n) to cancel!> \")\n",
    "            if continue_or_not.lower() == 'y':\n",
    "                how_much = int(input(\"Enter how much would you like to withdraw> \"))\n",
    "                if money <= 0:\n",
    "                    print(\"insufficient Bank money! Please deposit some cach and try agail later! \")\n",
    "                    break\n",
    "                else:\n",
    "                    if how_much > Bank.bank_money:\n",
    "                        print(\"Oops, you can't withdraw because: {}>{} \".format(how_much, Bank.bank_money))\n",
    "                        break\n",
    "                    else:\n",
    "                        Bank.bank_money -= how_much\n",
    "                        Bank.cash_money += how_much\n",
    "                        print(\"The withdraw Procedure is seccesful, you're current cash money now is {} \".format(Bank.cash_money))\n",
    "                        break\n",
    "            else:\n",
    "                print(\"The withraw procedure is disturbed or canceled by {}!\".format(name))\n",
    "                break\n",
    "        return\n",
    "\n",
    "name = str(input(\"What's your name?> \"))\n",
    "obj = Bank(name)\n",
    "print(name +\", Looks like you have ${} in the bank And ${} cash!\".format(Bank.bank_money, Bank.cash_money))\n",
    "deposet = obj.deposit(Bank.bank_money, Bank.cash_money)\n",
    "withdrah = obj.withdraw(Bank.bank_money)\n",
    "\n"
   ]
  }
 ],
 "metadata": {
  "interpreter": {
   "hash": "e1dd01598b23de473282afb3babc112681e475713ab3a03c0a2070b1854f5e17"
  },
  "kernelspec": {
   "display_name": "Python 3.10.0 64-bit",
   "language": "python",
   "name": "python3"
  },
  "language_info": {
   "codemirror_mode": {
    "name": "ipython",
    "version": 3
   },
   "file_extension": ".py",
   "mimetype": "text/x-python",
   "name": "python",
   "nbconvert_exporter": "python",
   "pygments_lexer": "ipython3",
   "version": "3.10.0"
  },
  "orig_nbformat": 4
 },
 "nbformat": 4,
 "nbformat_minor": 2
}
